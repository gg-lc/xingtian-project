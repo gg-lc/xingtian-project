{
 "cells": [
  {
   "cell_type": "markdown",
   "metadata": {
    "id": "nYHb1ZgWsRii"
   },
   "source": [
    "# Pruning with our automatic structured Pruning framework\n",
    "Welcome to an end-to-end example for magnitude-based weight pruning\n",
    "\n",
    "**Summary**\n",
    "\n",
    "In this tutorial, you will:\n",
    "\n",
    "* Train a tf.keras model for CIFAR10 from scratch.\n",
    "* Fine tune the model by applying the pruning Framework and see the accuracy."
   ]
  },
  {
   "cell_type": "markdown",
   "metadata": {},
   "source": [
    "If you want to execute this notebook in Google Colab, uncomment the code below."
   ]
  },
  {
   "cell_type": "code",
   "execution_count": 1,
   "metadata": {
    "colab": {
     "base_uri": "https://localhost:8080/"
    },
    "id": "f_QYhrsRq_dL",
    "outputId": "459d5eeb-0c25-4d9c-8ccf-fec265a9b909"
   },
   "outputs": [],
   "source": [
    "import sys\n",
    "\n",
    "if 'google.colab' in sys.modules:\n",
    "    !git clone https://github.com/Hahn-Schickard/Automatic-Structured-Pruning\n",
    "    !echo $CWD\n",
    "    sys.path.append(\"Automatic-Structured-Pruning/src\")\n",
    "else:\n",
    "    sys.path.append(\"../src\")\n",
    "    \n",
    "import pruning"
   ]
  },
  {
   "cell_type": "markdown",
   "metadata": {
    "id": "P59sTXkZrcUB"
   },
   "source": [
    "## Train a model for CIFAR10 without pruning\n",
    "Download and prepare the CIFAR10 dataset.\n",
    "The CIFAR10 dataset contains 60,000 color images in 10 classes, with 6,000 images in each class. The dataset is divided into 50,000 training images and 10,000 testing images. The classes are mutually exclusive and there is no overlap between them.\n",
    "\n",
    "Create the convolutional base\n",
    "The 6 lines of code below define the convolutional base using a common pattern: a stack of Conv2D and MaxPooling2D layers.\n",
    "\n",
    "As input, a CNN takes tensors of shape (image_height, image_width, color_channels), ignoring the batch size. If you are new to these dimensions, color_channels refers to (R,G,B). In this example, you will configure our CNN to process inputs of shape (32, 32, 3), which is the format of CIFAR images. You can do this by passing the argument input_shape to our first layer.\n",
    "\n",
    "To complete our model, you will feed the last output tensor from the convolutional base (of shape (4, 4, 64)) into one or more Dense layers to perform classification. Dense layers take vectors as input (which are 1D), while the current output is a 3D tensor. First, you will flatten (or unroll) the 3D output to 1D, then add one or more Dense layers on top. CIFAR has 10 output classes, so you use a final Dense layer with 10 outputs and a softmax activation."
   ]
  },
  {
   "cell_type": "code",
   "execution_count": 2,
   "metadata": {
    "colab": {
     "base_uri": "https://localhost:8080/"
    },
    "id": "lOE5QdnNq_dQ",
    "outputId": "1f6861d6-952c-464b-be78-c274a4d189dc"
   },
   "outputs": [
    {
     "name": "stdout",
     "output_type": "stream",
     "text": [
      "Model: \"sequential\"\n",
      "_________________________________________________________________\n",
      "Layer (type)                 Output Shape              Param #   \n",
      "=================================================================\n",
      "conv2d (Conv2D)              (None, 30, 30, 32)        896       \n",
      "_________________________________________________________________\n",
      "max_pooling2d (MaxPooling2D) (None, 15, 15, 32)        0         \n",
      "_________________________________________________________________\n",
      "conv2d_1 (Conv2D)            (None, 13, 13, 64)        18496     \n",
      "_________________________________________________________________\n",
      "max_pooling2d_1 (MaxPooling2 (None, 6, 6, 64)          0         \n",
      "_________________________________________________________________\n",
      "conv2d_2 (Conv2D)            (None, 4, 4, 64)          36928     \n",
      "_________________________________________________________________\n",
      "max_pooling2d_2 (MaxPooling2 (None, 2, 2, 64)          0         \n",
      "_________________________________________________________________\n",
      "flatten (Flatten)            (None, 256)               0         \n",
      "_________________________________________________________________\n",
      "dense (Dense)                (None, 64)                16448     \n",
      "_________________________________________________________________\n",
      "dropout (Dropout)            (None, 64)                0         \n",
      "_________________________________________________________________\n",
      "dense_1 (Dense)              (None, 32)                2080      \n",
      "_________________________________________________________________\n",
      "dropout_1 (Dropout)          (None, 32)                0         \n",
      "_________________________________________________________________\n",
      "dense_2 (Dense)              (None, 10)                330       \n",
      "=================================================================\n",
      "Total params: 75,178\n",
      "Trainable params: 75,178\n",
      "Non-trainable params: 0\n",
      "_________________________________________________________________\n"
     ]
    }
   ],
   "source": [
    "import tensorflow as tf\n",
    "from tensorflow.keras import datasets, layers, models\n",
    "\n",
    "\n",
    "(train_images, train_labels), (test_images, test_labels) = datasets.cifar10.load_data()\n",
    "\n",
    "# Normalize pixel values to be between 0 and 1\n",
    "train_images, test_images = train_images / 255.0, test_images / 255.0\n",
    "\n",
    "model = models.Sequential()\n",
    "model.add(layers.Conv2D(32, (3, 3), activation='relu', input_shape=(32, 32, 3)))\n",
    "model.add(layers.MaxPooling2D((2, 2)))\n",
    "model.add(layers.Conv2D(64, (3, 3), activation='relu'))\n",
    "model.add(layers.MaxPooling2D((2, 2)))\n",
    "model.add(layers.Conv2D(64, (3, 3), activation='relu'))\n",
    "model.add(layers.MaxPooling2D((2, 2)))\n",
    "model.add(layers.Flatten())\n",
    "model.add(layers.Dense(64, activation='relu'))\n",
    "model.add(layers.Dropout(0.3))\n",
    "model.add(layers.Dense(32, activation='relu'))\n",
    "model.add(layers.Dropout(0.25))\n",
    "model.add(layers.Dense(10, activation='softmax'))\n",
    "\n",
    "model.summary()"
   ]
  },
  {
   "cell_type": "markdown",
   "metadata": {
    "id": "oY3Yas0wrmZf"
   },
   "source": [
    "Above, you can see that the output of every Conv2D and MaxPooling2D layer is a 3D tensor of shape (height, width, channels). The width and height dimensions tend to shrink as you go deeper in the network. The number of output channels for each Conv2D layer is controlled by the first argument (e.g., 32 or 64). Typically, as the width and height shrink, you can afford (computationally) to add more output channels in each Conv2D layer.\n",
    "As you can see, our (4, 4, 64) outputs were flattened into vectors of shape (1024) before going through two Dense layers."
   ]
  },
  {
   "cell_type": "markdown",
   "metadata": {
    "id": "ei2Brtgc232J"
   },
   "source": [
    "## Compile and train the model"
   ]
  },
  {
   "cell_type": "code",
   "execution_count": 3,
   "metadata": {
    "colab": {
     "base_uri": "https://localhost:8080/"
    },
    "id": "5Slx3T9n24o6",
    "outputId": "119ec2c1-30b9-4aca-a26e-ab6317f3765a"
   },
   "outputs": [
    {
     "name": "stdout",
     "output_type": "stream",
     "text": [
      "Epoch 1/30\n",
      "313/313 [==============================] - 5s 8ms/step - loss: 1.9574 - accuracy: 0.2586 - val_loss: 1.6006 - val_accuracy: 0.4092\n",
      "Epoch 2/30\n",
      "313/313 [==============================] - 2s 7ms/step - loss: 1.6127 - accuracy: 0.4028 - val_loss: 1.4098 - val_accuracy: 0.4922\n",
      "Epoch 3/30\n",
      "313/313 [==============================] - 2s 6ms/step - loss: 1.4430 - accuracy: 0.4767 - val_loss: 1.2657 - val_accuracy: 0.5505\n",
      "Epoch 4/30\n",
      "313/313 [==============================] - 2s 7ms/step - loss: 1.3465 - accuracy: 0.5172 - val_loss: 1.2028 - val_accuracy: 0.5727\n",
      "Epoch 5/30\n",
      "313/313 [==============================] - 2s 6ms/step - loss: 1.2685 - accuracy: 0.5493 - val_loss: 1.1866 - val_accuracy: 0.5752\n",
      "Epoch 6/30\n",
      "313/313 [==============================] - 2s 6ms/step - loss: 1.2041 - accuracy: 0.5749 - val_loss: 1.1013 - val_accuracy: 0.6082\n",
      "Epoch 7/30\n",
      "313/313 [==============================] - 2s 7ms/step - loss: 1.1539 - accuracy: 0.5960 - val_loss: 1.0831 - val_accuracy: 0.6133\n",
      "Epoch 8/30\n",
      "313/313 [==============================] - 2s 7ms/step - loss: 1.1009 - accuracy: 0.6158 - val_loss: 1.0897 - val_accuracy: 0.6141\n",
      "Epoch 9/30\n",
      "313/313 [==============================] - 2s 7ms/step - loss: 1.0674 - accuracy: 0.6279 - val_loss: 1.0307 - val_accuracy: 0.6422\n",
      "Epoch 10/30\n",
      "313/313 [==============================] - 2s 7ms/step - loss: 1.0267 - accuracy: 0.6435 - val_loss: 1.0060 - val_accuracy: 0.6452\n",
      "Epoch 11/30\n",
      "313/313 [==============================] - 2s 7ms/step - loss: 0.9874 - accuracy: 0.6578 - val_loss: 0.9763 - val_accuracy: 0.6524\n",
      "Epoch 12/30\n",
      "313/313 [==============================] - 2s 6ms/step - loss: 0.9537 - accuracy: 0.6717 - val_loss: 0.9373 - val_accuracy: 0.6730\n",
      "Epoch 13/30\n",
      "313/313 [==============================] - 2s 6ms/step - loss: 0.9296 - accuracy: 0.6786 - val_loss: 0.9432 - val_accuracy: 0.6678\n",
      "Epoch 14/30\n",
      "313/313 [==============================] - 2s 6ms/step - loss: 0.8944 - accuracy: 0.6908 - val_loss: 0.9138 - val_accuracy: 0.6807\n",
      "Epoch 15/30\n",
      "313/313 [==============================] - 2s 6ms/step - loss: 0.8782 - accuracy: 0.6968 - val_loss: 0.9426 - val_accuracy: 0.6749\n",
      "Epoch 16/30\n",
      "313/313 [==============================] - 2s 7ms/step - loss: 0.8570 - accuracy: 0.7077 - val_loss: 0.9137 - val_accuracy: 0.6878\n",
      "Epoch 17/30\n",
      "313/313 [==============================] - 2s 6ms/step - loss: 0.8256 - accuracy: 0.7164 - val_loss: 0.9553 - val_accuracy: 0.6739\n",
      "Epoch 18/30\n",
      "313/313 [==============================] - 2s 7ms/step - loss: 0.8141 - accuracy: 0.7217 - val_loss: 0.9177 - val_accuracy: 0.6797\n",
      "Epoch 19/30\n",
      "313/313 [==============================] - 2s 7ms/step - loss: 0.7866 - accuracy: 0.7304 - val_loss: 0.8990 - val_accuracy: 0.6931\n",
      "Epoch 20/30\n",
      "313/313 [==============================] - 2s 6ms/step - loss: 0.7646 - accuracy: 0.7362 - val_loss: 0.9215 - val_accuracy: 0.6881\n",
      "Epoch 21/30\n",
      "313/313 [==============================] - 2s 7ms/step - loss: 0.7495 - accuracy: 0.7445 - val_loss: 0.9083 - val_accuracy: 0.6911\n",
      "Epoch 22/30\n",
      "313/313 [==============================] - 2s 6ms/step - loss: 0.7320 - accuracy: 0.7485 - val_loss: 0.9178 - val_accuracy: 0.6984\n",
      "Epoch 23/30\n",
      "313/313 [==============================] - 2s 6ms/step - loss: 0.7109 - accuracy: 0.7564 - val_loss: 0.9090 - val_accuracy: 0.6987\n",
      "Epoch 24/30\n",
      "313/313 [==============================] - 2s 6ms/step - loss: 0.6990 - accuracy: 0.7588 - val_loss: 0.9021 - val_accuracy: 0.6946\n",
      "313/313 - 1s - loss: 0.9131 - accuracy: 0.6923\n",
      "Model accuracy after Training: 69.23%\n"
     ]
    }
   ],
   "source": [
    "comp = {\n",
    "\"optimizer\":'adam',\n",
    "\"loss\": tf.keras.losses.SparseCategoricalCrossentropy(),\n",
    "\"metrics\": ['accuracy']}\n",
    "\n",
    "model.compile(**comp)\n",
    "callbacks = [tf.keras.callbacks.EarlyStopping(monitor='val_loss', patience=5, restore_best_weights=True)]\n",
    "\n",
    "model.fit(train_images, train_labels, validation_split=0.2, epochs=30, batch_size=128, callbacks=callbacks)\n",
    "\n",
    "model_test_loss, model_test_acc = model.evaluate(test_images, test_labels, verbose=2)\n",
    "print(f\"Model accuracy after Training: {model_test_acc*100:.2f}%\")"
   ]
  },
  {
   "cell_type": "markdown",
   "metadata": {
    "id": "NtV0lMtArsup"
   },
   "source": [
    "## Fine-tune pre-trained model with pruning\n",
    "You will apply pruning to the whole model and see this in the model summary.\n",
    "\n",
    "In this example, you prune the model with 30% dense pruning and 40% filter pruning."
   ]
  },
  {
   "cell_type": "code",
   "execution_count": 4,
   "metadata": {
    "colab": {
     "base_uri": "https://localhost:8080/"
    },
    "id": "VWLQMAO3q_db",
    "outputId": "ede18f6b-a318-497b-8cd6-f22e7bc8b62c"
   },
   "outputs": [
    {
     "name": "stdout",
     "output_type": "stream",
     "text": [
      "Finish with pruning\n",
      "Before pruning:\n",
      "Model: \"sequential\"\n",
      "_________________________________________________________________\n",
      "Layer (type)                 Output Shape              Param #   \n",
      "=================================================================\n",
      "conv2d (Conv2D)              (None, 30, 30, 32)        896       \n",
      "_________________________________________________________________\n",
      "max_pooling2d (MaxPooling2D) (None, 15, 15, 32)        0         \n",
      "_________________________________________________________________\n",
      "conv2d_1 (Conv2D)            (None, 13, 13, 64)        18496     \n",
      "_________________________________________________________________\n",
      "max_pooling2d_1 (MaxPooling2 (None, 6, 6, 64)          0         \n",
      "_________________________________________________________________\n",
      "conv2d_2 (Conv2D)            (None, 4, 4, 64)          36928     \n",
      "_________________________________________________________________\n",
      "max_pooling2d_2 (MaxPooling2 (None, 2, 2, 64)          0         \n",
      "_________________________________________________________________\n",
      "flatten (Flatten)            (None, 256)               0         \n",
      "_________________________________________________________________\n",
      "dense (Dense)                (None, 64)                16448     \n",
      "_________________________________________________________________\n",
      "dropout (Dropout)            (None, 64)                0         \n",
      "_________________________________________________________________\n",
      "dense_1 (Dense)              (None, 32)                2080      \n",
      "_________________________________________________________________\n",
      "dropout_1 (Dropout)          (None, 32)                0         \n",
      "_________________________________________________________________\n",
      "dense_2 (Dense)              (None, 10)                330       \n",
      "=================================================================\n",
      "Total params: 75,178\n",
      "Trainable params: 75,178\n",
      "Non-trainable params: 0\n",
      "_________________________________________________________________\n",
      "After pruning:\n",
      "Model: \"sequential\"\n",
      "_________________________________________________________________\n",
      "Layer (type)                 Output Shape              Param #   \n",
      "=================================================================\n",
      "conv2d (Conv2D)              (None, 30, 30, 20)        560       \n",
      "_________________________________________________________________\n",
      "max_pooling2d (MaxPooling2D) (None, 15, 15, 20)        0         \n",
      "_________________________________________________________________\n",
      "conv2d_1 (Conv2D)            (None, 13, 13, 39)        7059      \n",
      "_________________________________________________________________\n",
      "max_pooling2d_1 (MaxPooling2 (None, 6, 6, 39)          0         \n",
      "_________________________________________________________________\n",
      "conv2d_2 (Conv2D)            (None, 4, 4, 39)          13728     \n",
      "_________________________________________________________________\n",
      "max_pooling2d_2 (MaxPooling2 (None, 2, 2, 39)          0         \n",
      "_________________________________________________________________\n",
      "flatten (Flatten)            (None, 156)               0         \n",
      "_________________________________________________________________\n",
      "dense (Dense)                (None, 45)                7065      \n",
      "_________________________________________________________________\n",
      "dropout (Dropout)            (None, 45)                0         \n",
      "_________________________________________________________________\n",
      "dense_1 (Dense)              (None, 23)                1058      \n",
      "_________________________________________________________________\n",
      "dropout_1 (Dropout)          (None, 23)                0         \n",
      "_________________________________________________________________\n",
      "dense_2 (Dense)              (None, 10)                240       \n",
      "=================================================================\n",
      "Total params: 29,710\n",
      "Trainable params: 29,710\n",
      "Non-trainable params: 0\n",
      "_________________________________________________________________\n",
      "Model built\n"
     ]
    },
    {
     "name": "stderr",
     "output_type": "stream",
     "text": [
      "c:\\Users\\dk100\\Documents\\Automatic-Structured-Pruning\\examples\\../src\\pruning_helper_functions.py:108: VisibleDeprecationWarning: Creating an ndarray from ragged nested sequences (which is a list-or-tuple of lists-or-tuples-or ndarrays with different lengths or shapes) is deprecated. If you meant to do this, you must specify 'dtype=object' when creating the ndarray\n",
      "  return np.array(layer_types), np.array(layer_params), \\\n"
     ]
    }
   ],
   "source": [
    "dense_prune_rate=30\n",
    "conv_prune_rate=40\n",
    "pruned_model=pruning.factor_pruning(model, dense_prune_rate, conv_prune_rate,'L2', num_classes=10)"
   ]
  },
  {
   "cell_type": "markdown",
   "metadata": {
    "id": "Kz2f5f-o_6mX"
   },
   "source": [
    "We see how we get less parameter in the pruned model."
   ]
  },
  {
   "cell_type": "markdown",
   "metadata": {
    "id": "eHSCkPz19Fwl"
   },
   "source": [
    "## Compile and re-train the model"
   ]
  },
  {
   "cell_type": "code",
   "execution_count": 5,
   "metadata": {},
   "outputs": [
    {
     "name": "stdout",
     "output_type": "stream",
     "text": [
      "Model: \"sequential\"\n",
      "_________________________________________________________________\n",
      "Layer (type)                 Output Shape              Param #   \n",
      "=================================================================\n",
      "conv2d (Conv2D)              (None, 30, 30, 20)        560       \n",
      "_________________________________________________________________\n",
      "max_pooling2d (MaxPooling2D) (None, 15, 15, 20)        0         \n",
      "_________________________________________________________________\n",
      "conv2d_1 (Conv2D)            (None, 13, 13, 39)        7059      \n",
      "_________________________________________________________________\n",
      "max_pooling2d_1 (MaxPooling2 (None, 6, 6, 39)          0         \n",
      "_________________________________________________________________\n",
      "conv2d_2 (Conv2D)            (None, 4, 4, 39)          13728     \n",
      "_________________________________________________________________\n",
      "max_pooling2d_2 (MaxPooling2 (None, 2, 2, 39)          0         \n",
      "_________________________________________________________________\n",
      "flatten (Flatten)            (None, 156)               0         \n",
      "_________________________________________________________________\n",
      "dense (Dense)                (None, 45)                7065      \n",
      "_________________________________________________________________\n",
      "dropout (Dropout)            (None, 45)                0         \n",
      "_________________________________________________________________\n",
      "dense_1 (Dense)              (None, 23)                1058      \n",
      "_________________________________________________________________\n",
      "dropout_1 (Dropout)          (None, 23)                0         \n",
      "_________________________________________________________________\n",
      "dense_2 (Dense)              (None, 10)                240       \n",
      "=================================================================\n",
      "Total params: 29,710\n",
      "Trainable params: 29,710\n",
      "Non-trainable params: 0\n",
      "_________________________________________________________________\n"
     ]
    }
   ],
   "source": [
    "pruned_model.summary()"
   ]
  },
  {
   "cell_type": "code",
   "execution_count": 6,
   "metadata": {
    "id": "jPAucXYJq_di"
   },
   "outputs": [
    {
     "name": "stdout",
     "output_type": "stream",
     "text": [
      "Epoch 1/10\n",
      "1250/1250 [==============================] - 10s 8ms/step - loss: 1.4589 - accuracy: 0.4894 - val_loss: 1.1615 - val_accuracy: 0.5855\n",
      "Epoch 2/10\n",
      "1250/1250 [==============================] - 8s 6ms/step - loss: 1.1808 - accuracy: 0.5957 - val_loss: 1.0780 - val_accuracy: 0.6291\n",
      "Epoch 3/10\n",
      "1250/1250 [==============================] - 7s 6ms/step - loss: 1.0819 - accuracy: 0.6312 - val_loss: 1.0367 - val_accuracy: 0.6471\n",
      "Epoch 4/10\n",
      "1250/1250 [==============================] - 7s 5ms/step - loss: 1.0346 - accuracy: 0.6489 - val_loss: 0.9694 - val_accuracy: 0.6643\n",
      "Epoch 5/10\n",
      "1250/1250 [==============================] - 7s 5ms/step - loss: 0.9866 - accuracy: 0.6685 - val_loss: 1.0053 - val_accuracy: 0.6557\n",
      "Epoch 6/10\n",
      "1250/1250 [==============================] - 7s 5ms/step - loss: 0.9750 - accuracy: 0.6727 - val_loss: 0.9570 - val_accuracy: 0.6673\n",
      "Epoch 7/10\n",
      "1250/1250 [==============================] - 7s 6ms/step - loss: 0.9349 - accuracy: 0.6840 - val_loss: 1.0200 - val_accuracy: 0.6489\n",
      "Epoch 8/10\n",
      "1250/1250 [==============================] - 7s 5ms/step - loss: 0.9205 - accuracy: 0.6906 - val_loss: 0.9526 - val_accuracy: 0.6707\n",
      "Epoch 9/10\n",
      "1250/1250 [==============================] - 7s 5ms/step - loss: 0.8974 - accuracy: 0.6986 - val_loss: 0.9288 - val_accuracy: 0.6864\n",
      "Epoch 10/10\n",
      "1250/1250 [==============================] - 7s 6ms/step - loss: 0.8774 - accuracy: 0.7051 - val_loss: 0.9467 - val_accuracy: 0.6805\n"
     ]
    },
    {
     "data": {
      "text/plain": [
       "<tensorflow.python.keras.callbacks.History at 0x20ac804c700>"
      ]
     },
     "execution_count": 6,
     "metadata": {},
     "output_type": "execute_result"
    }
   ],
   "source": [
    "comp = {\n",
    "\"optimizer\":'adam',\n",
    "\"loss\": tf.keras.losses.SparseCategoricalCrossentropy(),\n",
    "\"metrics\": ['accuracy']}\n",
    "\n",
    "pruned_model.compile(**comp)\n",
    "\n",
    "pruned_model.fit(train_images, train_labels, epochs=10, validation_split=0.2)"
   ]
  },
  {
   "cell_type": "markdown",
   "metadata": {
    "id": "0y_x_9EjAQbz"
   },
   "source": [
    "Compare both models"
   ]
  },
  {
   "cell_type": "code",
   "execution_count": 7,
   "metadata": {
    "id": "hw1IIf0CAReG"
   },
   "outputs": [
    {
     "name": "stdout",
     "output_type": "stream",
     "text": [
      "313/313 - 1s - loss: 0.9131 - accuracy: 0.6923\n",
      "313/313 - 1s - loss: 0.9458 - accuracy: 0.6764\n",
      "Model accuracy before pruning: 69.23%\n",
      "Model accuracy after pruning: 67.64%\n"
     ]
    }
   ],
   "source": [
    "model_test_loss, model_test_acc = model.evaluate(test_images,  test_labels, verbose=2)\n",
    "pruned_model_test_loss, pruned_model_test_acc = pruned_model.evaluate(test_images,  test_labels, verbose=2)\n",
    "\n",
    "print(f\"Model accuracy before pruning: {model_test_acc*100:.2f}%\")\n",
    "print(f\"Model accuracy after pruning: {pruned_model_test_acc*100:.2f}%\")"
   ]
  },
  {
   "cell_type": "code",
   "execution_count": 8,
   "metadata": {},
   "outputs": [
    {
     "name": "stdout",
     "output_type": "stream",
     "text": [
      "Total number of parameters before pruning: 75178\n",
      "Total number of parameters after pruning: 29710\n",
      "Pruned model contains only 39.52% of the original number of parameters.\n"
     ]
    }
   ],
   "source": [
    "print(f\"Total number of parameters before pruning: {model.count_params()}\")\n",
    "print(f\"Total number of parameters after pruning: {pruned_model.count_params()}\")\n",
    "print(f\"Pruned model contains only {(pruned_model.count_params()/model.count_params())*100:.2f}% of the original number of parameters.\")"
   ]
  },
  {
   "cell_type": "markdown",
   "metadata": {
    "id": "vSgcm-WoclIF"
   },
   "source": [
    "# Prune a model to a maximum accuracy loss\n",
    "\n",
    "We define the arguments to compile the model. In this case, we only want to have an accuracy loss of 3%.\n",
    "In this example we have loaded the data directly from a TensorFlow dataset. Therefore, we do not have a defined dataloader (path or file). However, the structure of the training data is the same as the data we would read from a Python file. Therefore, we use a trick here and pass an existing FILE from the current folder as the dataloader path. This way the correct functions will be executed afterwards and no error will be issued."
   ]
  },
  {
   "cell_type": "code",
   "execution_count": 9,
   "metadata": {
    "id": "rUtd-GqJdJNx"
   },
   "outputs": [
    {
     "name": "stdout",
     "output_type": "stream",
     "text": [
      "313/313 [==============================] - 1s 3ms/step - loss: 0.9131 - accuracy: 0.6923\n",
      "Start model accuracy: 69.2300021648407%\n",
      "Next pruning factors: 5\n",
      "Finish with pruning\n",
      "Before pruning:\n",
      "Model: \"sequential\"\n",
      "_________________________________________________________________\n",
      "Layer (type)                 Output Shape              Param #   \n",
      "=================================================================\n",
      "conv2d (Conv2D)              (None, 30, 30, 32)        896       \n",
      "_________________________________________________________________\n",
      "max_pooling2d (MaxPooling2D) (None, 15, 15, 32)        0         \n",
      "_________________________________________________________________\n",
      "conv2d_1 (Conv2D)            (None, 13, 13, 64)        18496     \n",
      "_________________________________________________________________\n",
      "max_pooling2d_1 (MaxPooling2 (None, 6, 6, 64)          0         \n",
      "_________________________________________________________________\n",
      "conv2d_2 (Conv2D)            (None, 4, 4, 64)          36928     \n",
      "_________________________________________________________________\n",
      "max_pooling2d_2 (MaxPooling2 (None, 2, 2, 64)          0         \n",
      "_________________________________________________________________\n",
      "flatten (Flatten)            (None, 256)               0         \n",
      "_________________________________________________________________\n",
      "dense (Dense)                (None, 64)                16448     \n",
      "_________________________________________________________________\n",
      "dropout (Dropout)            (None, 64)                0         \n",
      "_________________________________________________________________\n",
      "dense_1 (Dense)              (None, 32)                2080      \n",
      "_________________________________________________________________\n",
      "dropout_1 (Dropout)          (None, 32)                0         \n",
      "_________________________________________________________________\n",
      "dense_2 (Dense)              (None, 10)                330       \n",
      "=================================================================\n",
      "Total params: 75,178\n",
      "Trainable params: 75,178\n",
      "Non-trainable params: 0\n",
      "_________________________________________________________________\n",
      "After pruning:\n",
      "Model: \"sequential\"\n",
      "_________________________________________________________________\n",
      "Layer (type)                 Output Shape              Param #   \n",
      "=================================================================\n",
      "conv2d (Conv2D)              (None, 30, 30, 31)        868       \n",
      "_________________________________________________________________\n",
      "max_pooling2d (MaxPooling2D) (None, 15, 15, 31)        0         \n",
      "_________________________________________________________________\n",
      "conv2d_1 (Conv2D)            (None, 13, 13, 61)        17080     \n",
      "_________________________________________________________________\n",
      "max_pooling2d_1 (MaxPooling2 (None, 6, 6, 61)          0         \n",
      "_________________________________________________________________\n",
      "conv2d_2 (Conv2D)            (None, 4, 4, 61)          33550     \n",
      "_________________________________________________________________\n",
      "max_pooling2d_2 (MaxPooling2 (None, 2, 2, 61)          0         \n",
      "_________________________________________________________________\n",
      "flatten (Flatten)            (None, 244)               0         \n",
      "_________________________________________________________________\n",
      "dense (Dense)                (None, 61)                14945     \n",
      "_________________________________________________________________\n",
      "dropout (Dropout)            (None, 61)                0         \n",
      "_________________________________________________________________\n",
      "dense_1 (Dense)              (None, 31)                1922      \n",
      "_________________________________________________________________\n",
      "dropout_1 (Dropout)          (None, 31)                0         \n",
      "_________________________________________________________________\n",
      "dense_2 (Dense)              (None, 10)                320       \n",
      "=================================================================\n",
      "Total params: 68,685\n",
      "Trainable params: 68,685\n",
      "Non-trainable params: 0\n",
      "_________________________________________________________________\n",
      "Model built\n",
      "Epoch 1/10\n",
      "782/782 [==============================] - 5s 6ms/step - loss: 1.2570 - accuracy: 0.5619 - val_loss: 1.0174 - val_accuracy: 0.6468\n",
      "Epoch 2/10\n",
      "782/782 [==============================] - 5s 6ms/step - loss: 1.0116 - accuracy: 0.6543 - val_loss: 0.9591 - val_accuracy: 0.6714\n",
      "Next pruning factors: 20\n",
      "Finish with pruning\n",
      "Before pruning:\n",
      "Model: \"sequential\"\n",
      "_________________________________________________________________\n",
      "Layer (type)                 Output Shape              Param #   \n",
      "=================================================================\n",
      "conv2d (Conv2D)              (None, 30, 30, 32)        896       \n",
      "_________________________________________________________________\n",
      "max_pooling2d (MaxPooling2D) (None, 15, 15, 32)        0         \n",
      "_________________________________________________________________\n",
      "conv2d_1 (Conv2D)            (None, 13, 13, 64)        18496     \n",
      "_________________________________________________________________\n",
      "max_pooling2d_1 (MaxPooling2 (None, 6, 6, 64)          0         \n",
      "_________________________________________________________________\n",
      "conv2d_2 (Conv2D)            (None, 4, 4, 64)          36928     \n",
      "_________________________________________________________________\n",
      "max_pooling2d_2 (MaxPooling2 (None, 2, 2, 64)          0         \n",
      "_________________________________________________________________\n",
      "flatten (Flatten)            (None, 256)               0         \n",
      "_________________________________________________________________\n",
      "dense (Dense)                (None, 64)                16448     \n",
      "_________________________________________________________________\n",
      "dropout (Dropout)            (None, 64)                0         \n",
      "_________________________________________________________________\n",
      "dense_1 (Dense)              (None, 32)                2080      \n",
      "_________________________________________________________________\n",
      "dropout_1 (Dropout)          (None, 32)                0         \n",
      "_________________________________________________________________\n",
      "dense_2 (Dense)              (None, 10)                330       \n",
      "=================================================================\n",
      "Total params: 75,178\n",
      "Trainable params: 75,178\n",
      "Non-trainable params: 0\n",
      "_________________________________________________________________\n",
      "After pruning:\n",
      "Model: \"sequential\"\n",
      "_________________________________________________________________\n",
      "Layer (type)                 Output Shape              Param #   \n",
      "=================================================================\n",
      "conv2d (Conv2D)              (None, 30, 30, 26)        728       \n",
      "_________________________________________________________________\n",
      "max_pooling2d (MaxPooling2D) (None, 15, 15, 26)        0         \n",
      "_________________________________________________________________\n",
      "conv2d_1 (Conv2D)            (None, 13, 13, 52)        12220     \n",
      "_________________________________________________________________\n",
      "max_pooling2d_1 (MaxPooling2 (None, 6, 6, 52)          0         \n",
      "_________________________________________________________________\n",
      "conv2d_2 (Conv2D)            (None, 4, 4, 52)          24388     \n",
      "_________________________________________________________________\n",
      "max_pooling2d_2 (MaxPooling2 (None, 2, 2, 52)          0         \n",
      "_________________________________________________________________\n",
      "flatten (Flatten)            (None, 208)               0         \n",
      "_________________________________________________________________\n",
      "dense (Dense)                (None, 52)                10868     \n",
      "_________________________________________________________________\n",
      "dropout (Dropout)            (None, 52)                0         \n",
      "_________________________________________________________________\n",
      "dense_1 (Dense)              (None, 26)                1378      \n",
      "_________________________________________________________________\n",
      "dropout_1 (Dropout)          (None, 26)                0         \n",
      "_________________________________________________________________\n",
      "dense_2 (Dense)              (None, 10)                270       \n",
      "=================================================================\n",
      "Total params: 49,852\n",
      "Trainable params: 49,852\n",
      "Non-trainable params: 0\n",
      "_________________________________________________________________\n",
      "Model built\n",
      "Epoch 1/10\n",
      "782/782 [==============================] - 5s 6ms/step - loss: 1.3533 - accuracy: 0.5244 - val_loss: 1.0688 - val_accuracy: 0.6238\n",
      "Epoch 2/10\n",
      "782/782 [==============================] - 4s 6ms/step - loss: 1.0628 - accuracy: 0.6335 - val_loss: 0.9801 - val_accuracy: 0.6657\n",
      "Next pruning factors: 35\n",
      "Finish with pruning\n",
      "Before pruning:\n",
      "Model: \"sequential\"\n",
      "_________________________________________________________________\n",
      "Layer (type)                 Output Shape              Param #   \n",
      "=================================================================\n",
      "conv2d (Conv2D)              (None, 30, 30, 32)        896       \n",
      "_________________________________________________________________\n",
      "max_pooling2d (MaxPooling2D) (None, 15, 15, 32)        0         \n",
      "_________________________________________________________________\n",
      "conv2d_1 (Conv2D)            (None, 13, 13, 64)        18496     \n",
      "_________________________________________________________________\n",
      "max_pooling2d_1 (MaxPooling2 (None, 6, 6, 64)          0         \n",
      "_________________________________________________________________\n",
      "conv2d_2 (Conv2D)            (None, 4, 4, 64)          36928     \n",
      "_________________________________________________________________\n",
      "max_pooling2d_2 (MaxPooling2 (None, 2, 2, 64)          0         \n",
      "_________________________________________________________________\n",
      "flatten (Flatten)            (None, 256)               0         \n",
      "_________________________________________________________________\n",
      "dense (Dense)                (None, 64)                16448     \n",
      "_________________________________________________________________\n",
      "dropout (Dropout)            (None, 64)                0         \n",
      "_________________________________________________________________\n",
      "dense_1 (Dense)              (None, 32)                2080      \n",
      "_________________________________________________________________\n",
      "dropout_1 (Dropout)          (None, 32)                0         \n",
      "_________________________________________________________________\n",
      "dense_2 (Dense)              (None, 10)                330       \n",
      "=================================================================\n",
      "Total params: 75,178\n",
      "Trainable params: 75,178\n",
      "Non-trainable params: 0\n",
      "_________________________________________________________________\n",
      "After pruning:\n",
      "Model: \"sequential\"\n",
      "_________________________________________________________________\n",
      "Layer (type)                 Output Shape              Param #   \n",
      "=================================================================\n",
      "conv2d (Conv2D)              (None, 30, 30, 21)        588       \n",
      "_________________________________________________________________\n",
      "max_pooling2d (MaxPooling2D) (None, 15, 15, 21)        0         \n",
      "_________________________________________________________________\n",
      "conv2d_1 (Conv2D)            (None, 13, 13, 42)        7980      \n",
      "_________________________________________________________________\n",
      "max_pooling2d_1 (MaxPooling2 (None, 6, 6, 42)          0         \n",
      "_________________________________________________________________\n",
      "conv2d_2 (Conv2D)            (None, 4, 4, 42)          15918     \n",
      "_________________________________________________________________\n",
      "max_pooling2d_2 (MaxPooling2 (None, 2, 2, 42)          0         \n",
      "_________________________________________________________________\n",
      "flatten (Flatten)            (None, 168)               0         \n",
      "_________________________________________________________________\n",
      "dense (Dense)                (None, 42)                7098      \n",
      "_________________________________________________________________\n",
      "dropout (Dropout)            (None, 42)                0         \n",
      "_________________________________________________________________\n",
      "dense_1 (Dense)              (None, 21)                903       \n",
      "_________________________________________________________________\n",
      "dropout_1 (Dropout)          (None, 21)                0         \n",
      "_________________________________________________________________\n",
      "dense_2 (Dense)              (None, 10)                220       \n",
      "=================================================================\n",
      "Total params: 32,707\n",
      "Trainable params: 32,707\n",
      "Non-trainable params: 0\n",
      "_________________________________________________________________\n",
      "Model built\n",
      "Epoch 1/10\n",
      "782/782 [==============================] - 5s 6ms/step - loss: 1.5433 - accuracy: 0.4466 - val_loss: 1.1541 - val_accuracy: 0.5907\n",
      "Epoch 2/10\n",
      "782/782 [==============================] - 5s 6ms/step - loss: 1.2035 - accuracy: 0.5807 - val_loss: 1.1124 - val_accuracy: 0.6097\n",
      "Epoch 3/10\n",
      "782/782 [==============================] - 4s 6ms/step - loss: 1.1130 - accuracy: 0.6146 - val_loss: 1.0130 - val_accuracy: 0.6518\n",
      "Epoch 4/10\n",
      "782/782 [==============================] - 5s 6ms/step - loss: 1.0531 - accuracy: 0.6389 - val_loss: 0.9878 - val_accuracy: 0.6541\n",
      "Epoch 5/10\n",
      "782/782 [==============================] - 4s 6ms/step - loss: 1.0076 - accuracy: 0.6567 - val_loss: 0.9365 - val_accuracy: 0.6808\n",
      "Next pruning factors: 45\n",
      "Finish with pruning\n",
      "Before pruning:\n",
      "Model: \"sequential\"\n",
      "_________________________________________________________________\n",
      "Layer (type)                 Output Shape              Param #   \n",
      "=================================================================\n",
      "conv2d (Conv2D)              (None, 30, 30, 32)        896       \n",
      "_________________________________________________________________\n",
      "max_pooling2d (MaxPooling2D) (None, 15, 15, 32)        0         \n",
      "_________________________________________________________________\n",
      "conv2d_1 (Conv2D)            (None, 13, 13, 64)        18496     \n",
      "_________________________________________________________________\n",
      "max_pooling2d_1 (MaxPooling2 (None, 6, 6, 64)          0         \n",
      "_________________________________________________________________\n",
      "conv2d_2 (Conv2D)            (None, 4, 4, 64)          36928     \n",
      "_________________________________________________________________\n",
      "max_pooling2d_2 (MaxPooling2 (None, 2, 2, 64)          0         \n",
      "_________________________________________________________________\n",
      "flatten (Flatten)            (None, 256)               0         \n",
      "_________________________________________________________________\n",
      "dense (Dense)                (None, 64)                16448     \n",
      "_________________________________________________________________\n",
      "dropout (Dropout)            (None, 64)                0         \n",
      "_________________________________________________________________\n",
      "dense_1 (Dense)              (None, 32)                2080      \n",
      "_________________________________________________________________\n",
      "dropout_1 (Dropout)          (None, 32)                0         \n",
      "_________________________________________________________________\n",
      "dense_2 (Dense)              (None, 10)                330       \n",
      "=================================================================\n",
      "Total params: 75,178\n",
      "Trainable params: 75,178\n",
      "Non-trainable params: 0\n",
      "_________________________________________________________________\n",
      "After pruning:\n",
      "Model: \"sequential\"\n",
      "_________________________________________________________________\n",
      "Layer (type)                 Output Shape              Param #   \n",
      "=================================================================\n",
      "conv2d (Conv2D)              (None, 30, 30, 18)        504       \n",
      "_________________________________________________________________\n",
      "max_pooling2d (MaxPooling2D) (None, 15, 15, 18)        0         \n",
      "_________________________________________________________________\n",
      "conv2d_1 (Conv2D)            (None, 13, 13, 36)        5868      \n",
      "_________________________________________________________________\n",
      "max_pooling2d_1 (MaxPooling2 (None, 6, 6, 36)          0         \n",
      "_________________________________________________________________\n",
      "conv2d_2 (Conv2D)            (None, 4, 4, 36)          11700     \n",
      "_________________________________________________________________\n",
      "max_pooling2d_2 (MaxPooling2 (None, 2, 2, 36)          0         \n",
      "_________________________________________________________________\n",
      "flatten (Flatten)            (None, 144)               0         \n",
      "_________________________________________________________________\n",
      "dense (Dense)                (None, 36)                5220      \n",
      "_________________________________________________________________\n",
      "dropout (Dropout)            (None, 36)                0         \n",
      "_________________________________________________________________\n",
      "dense_1 (Dense)              (None, 18)                666       \n",
      "_________________________________________________________________\n",
      "dropout_1 (Dropout)          (None, 18)                0         \n",
      "_________________________________________________________________\n",
      "dense_2 (Dense)              (None, 10)                190       \n",
      "=================================================================\n",
      "Total params: 24,148\n",
      "Trainable params: 24,148\n",
      "Non-trainable params: 0\n",
      "_________________________________________________________________\n",
      "Model built\n",
      "Epoch 1/10\n",
      "782/782 [==============================] - 5s 6ms/step - loss: 1.5758 - accuracy: 0.4404 - val_loss: 1.2290 - val_accuracy: 0.5698\n",
      "Epoch 2/10\n",
      "782/782 [==============================] - 4s 6ms/step - loss: 1.2545 - accuracy: 0.5686 - val_loss: 1.0770 - val_accuracy: 0.6247\n",
      "Epoch 3/10\n",
      "782/782 [==============================] - 5s 6ms/step - loss: 1.1702 - accuracy: 0.5977 - val_loss: 1.0455 - val_accuracy: 0.6343\n",
      "Epoch 4/10\n",
      "782/782 [==============================] - 4s 6ms/step - loss: 1.1175 - accuracy: 0.6195 - val_loss: 1.0175 - val_accuracy: 0.6538\n",
      "Epoch 5/10\n",
      "782/782 [==============================] - 4s 6ms/step - loss: 1.0784 - accuracy: 0.6339 - val_loss: 0.9957 - val_accuracy: 0.6573\n",
      "Epoch 6/10\n",
      "782/782 [==============================] - 4s 6ms/step - loss: 1.0426 - accuracy: 0.6450 - val_loss: 0.9865 - val_accuracy: 0.6569\n",
      "Epoch 7/10\n",
      "782/782 [==============================] - 4s 6ms/step - loss: 1.0209 - accuracy: 0.6531 - val_loss: 1.0166 - val_accuracy: 0.6517\n",
      "Epoch 8/10\n",
      "782/782 [==============================] - 4s 6ms/step - loss: 0.9935 - accuracy: 0.6645 - val_loss: 0.9544 - val_accuracy: 0.6658\n",
      "Next pruning factors: 47\n",
      "Finish with pruning\n",
      "Before pruning:\n",
      "Model: \"sequential\"\n",
      "_________________________________________________________________\n",
      "Layer (type)                 Output Shape              Param #   \n",
      "=================================================================\n",
      "conv2d (Conv2D)              (None, 30, 30, 32)        896       \n",
      "_________________________________________________________________\n",
      "max_pooling2d (MaxPooling2D) (None, 15, 15, 32)        0         \n",
      "_________________________________________________________________\n",
      "conv2d_1 (Conv2D)            (None, 13, 13, 64)        18496     \n",
      "_________________________________________________________________\n",
      "max_pooling2d_1 (MaxPooling2 (None, 6, 6, 64)          0         \n",
      "_________________________________________________________________\n",
      "conv2d_2 (Conv2D)            (None, 4, 4, 64)          36928     \n",
      "_________________________________________________________________\n",
      "max_pooling2d_2 (MaxPooling2 (None, 2, 2, 64)          0         \n",
      "_________________________________________________________________\n",
      "flatten (Flatten)            (None, 256)               0         \n",
      "_________________________________________________________________\n",
      "dense (Dense)                (None, 64)                16448     \n",
      "_________________________________________________________________\n",
      "dropout (Dropout)            (None, 64)                0         \n",
      "_________________________________________________________________\n",
      "dense_1 (Dense)              (None, 32)                2080      \n",
      "_________________________________________________________________\n",
      "dropout_1 (Dropout)          (None, 32)                0         \n",
      "_________________________________________________________________\n",
      "dense_2 (Dense)              (None, 10)                330       \n",
      "=================================================================\n",
      "Total params: 75,178\n",
      "Trainable params: 75,178\n",
      "Non-trainable params: 0\n",
      "_________________________________________________________________\n",
      "After pruning:\n",
      "Model: \"sequential\"\n",
      "_________________________________________________________________\n",
      "Layer (type)                 Output Shape              Param #   \n",
      "=================================================================\n",
      "conv2d (Conv2D)              (None, 30, 30, 17)        476       \n",
      "_________________________________________________________________\n",
      "max_pooling2d (MaxPooling2D) (None, 15, 15, 17)        0         \n",
      "_________________________________________________________________\n",
      "conv2d_1 (Conv2D)            (None, 13, 13, 34)        5236      \n",
      "_________________________________________________________________\n",
      "max_pooling2d_1 (MaxPooling2 (None, 6, 6, 34)          0         \n",
      "_________________________________________________________________\n",
      "conv2d_2 (Conv2D)            (None, 4, 4, 34)          10438     \n",
      "_________________________________________________________________\n",
      "max_pooling2d_2 (MaxPooling2 (None, 2, 2, 34)          0         \n",
      "_________________________________________________________________\n",
      "flatten (Flatten)            (None, 136)               0         \n",
      "_________________________________________________________________\n",
      "dense (Dense)                (None, 34)                4658      \n",
      "_________________________________________________________________\n",
      "dropout (Dropout)            (None, 34)                0         \n",
      "_________________________________________________________________\n",
      "dense_1 (Dense)              (None, 17)                595       \n",
      "_________________________________________________________________\n",
      "dropout_1 (Dropout)          (None, 17)                0         \n",
      "_________________________________________________________________\n",
      "dense_2 (Dense)              (None, 10)                180       \n",
      "=================================================================\n",
      "Total params: 21,583\n",
      "Trainable params: 21,583\n",
      "Non-trainable params: 0\n",
      "_________________________________________________________________\n",
      "Model built\n",
      "Epoch 1/10\n",
      "782/782 [==============================] - 5s 6ms/step - loss: 1.7033 - accuracy: 0.3758 - val_loss: 1.3545 - val_accuracy: 0.5287\n",
      "Epoch 2/10\n",
      "782/782 [==============================] - 5s 6ms/step - loss: 1.3773 - accuracy: 0.5112 - val_loss: 1.1921 - val_accuracy: 0.5798\n",
      "Epoch 3/10\n",
      "782/782 [==============================] - 5s 6ms/step - loss: 1.2760 - accuracy: 0.5521 - val_loss: 1.1093 - val_accuracy: 0.6117\n",
      "Epoch 4/10\n",
      "782/782 [==============================] - 5s 6ms/step - loss: 1.2208 - accuracy: 0.5766 - val_loss: 1.1031 - val_accuracy: 0.6101\n",
      "Epoch 5/10\n",
      "782/782 [==============================] - 5s 6ms/step - loss: 1.1715 - accuracy: 0.5940 - val_loss: 1.0463 - val_accuracy: 0.6306\n",
      "Epoch 6/10\n",
      "782/782 [==============================] - 5s 6ms/step - loss: 1.1413 - accuracy: 0.6060 - val_loss: 1.0549 - val_accuracy: 0.6287\n",
      "Epoch 7/10\n",
      "782/782 [==============================] - 9s 12ms/step - loss: 1.1149 - accuracy: 0.6154 - val_loss: 1.0224 - val_accuracy: 0.6396\n",
      "Epoch 8/10\n",
      "782/782 [==============================] - 5s 6ms/step - loss: 1.0896 - accuracy: 0.6253 - val_loss: 0.9905 - val_accuracy: 0.6542\n",
      "Epoch 9/10\n",
      "782/782 [==============================] - 5s 6ms/step - loss: 1.0639 - accuracy: 0.6345 - val_loss: 1.0171 - val_accuracy: 0.6390\n",
      "Epoch 10/10\n",
      "782/782 [==============================] - 5s 6ms/step - loss: 1.0550 - accuracy: 0.6390 - val_loss: 1.0112 - val_accuracy: 0.6504\n",
      "Pruningfactor dense and conv: 45\n"
     ]
    }
   ],
   "source": [
    "comp = {\n",
    "  \"optimizer\": 'adam',\n",
    "  \"loss\": tf.keras.losses.SparseCategoricalCrossentropy(),\n",
    "  \"metrics\": 'accuracy'\n",
    "}\n",
    "\n",
    "auto_model = pruning.accuracy_pruning(model, comp, train_images, train_labels, test_images,\n",
    "                                     test_labels, pruning_acc=None, max_acc_loss=3,\n",
    "                                     num_classes=10, label_one_hot=False)"
   ]
  },
  {
   "cell_type": "code",
   "execution_count": 10,
   "metadata": {},
   "outputs": [
    {
     "name": "stdout",
     "output_type": "stream",
     "text": [
      "Model: \"sequential\"\n",
      "_________________________________________________________________\n",
      "Layer (type)                 Output Shape              Param #   \n",
      "=================================================================\n",
      "conv2d (Conv2D)              (None, 30, 30, 18)        504       \n",
      "_________________________________________________________________\n",
      "max_pooling2d (MaxPooling2D) (None, 15, 15, 18)        0         \n",
      "_________________________________________________________________\n",
      "conv2d_1 (Conv2D)            (None, 13, 13, 36)        5868      \n",
      "_________________________________________________________________\n",
      "max_pooling2d_1 (MaxPooling2 (None, 6, 6, 36)          0         \n",
      "_________________________________________________________________\n",
      "conv2d_2 (Conv2D)            (None, 4, 4, 36)          11700     \n",
      "_________________________________________________________________\n",
      "max_pooling2d_2 (MaxPooling2 (None, 2, 2, 36)          0         \n",
      "_________________________________________________________________\n",
      "flatten (Flatten)            (None, 144)               0         \n",
      "_________________________________________________________________\n",
      "dense (Dense)                (None, 36)                5220      \n",
      "_________________________________________________________________\n",
      "dropout (Dropout)            (None, 36)                0         \n",
      "_________________________________________________________________\n",
      "dense_1 (Dense)              (None, 18)                666       \n",
      "_________________________________________________________________\n",
      "dropout_1 (Dropout)          (None, 18)                0         \n",
      "_________________________________________________________________\n",
      "dense_2 (Dense)              (None, 10)                190       \n",
      "=================================================================\n",
      "Total params: 24,148\n",
      "Trainable params: 24,148\n",
      "Non-trainable params: 0\n",
      "_________________________________________________________________\n"
     ]
    }
   ],
   "source": [
    "auto_model.summary()"
   ]
  },
  {
   "cell_type": "markdown",
   "metadata": {},
   "source": [
    "Compare both models"
   ]
  },
  {
   "cell_type": "code",
   "execution_count": 11,
   "metadata": {},
   "outputs": [
    {
     "name": "stdout",
     "output_type": "stream",
     "text": [
      "313/313 - 1s - loss: 0.9131 - accuracy: 0.6923\n",
      "313/313 - 1s - loss: 0.9544 - accuracy: 0.6658\n",
      "Model accuracy before pruning: 69.23%\n",
      "Model accuracy after pruning: 66.58%\n"
     ]
    }
   ],
   "source": [
    "model_test_loss, model_test_acc = model.evaluate(test_images,  test_labels, verbose=2)\n",
    "auto_model_test_loss, auto_model_test_acc = auto_model.evaluate(test_images,  test_labels, verbose=2)\n",
    "\n",
    "print(f\"Model accuracy before pruning: {model_test_acc*100:.2f}%\")\n",
    "print(f\"Model accuracy after pruning: {auto_model_test_acc*100:.2f}%\")"
   ]
  },
  {
   "cell_type": "code",
   "execution_count": 12,
   "metadata": {},
   "outputs": [
    {
     "name": "stdout",
     "output_type": "stream",
     "text": [
      "Total number of parameters before pruning: 75178\n",
      "Total number of parameters after pruning: 24148\n",
      "Pruned model contains only 32.12% of the original number of parameters.\n"
     ]
    }
   ],
   "source": [
    "print(f\"Total number of parameters before pruning: {model.count_params()}\")\n",
    "print(f\"Total number of parameters after pruning: {auto_model.count_params()}\")\n",
    "print(f\"Pruned model contains only {(auto_model.count_params()/model.count_params())*100:.2f}% of the original number of parameters.\")"
   ]
  }
 ],
 "metadata": {
  "colab": {
   "collapsed_sections": [],
   "name": "How_to_use_the_Framework.ipynb",
   "provenance": []
  },
  "kernelspec": {
   "display_name": "Python 3.8.12 ('AutoFlow')",
   "language": "python",
   "name": "python3"
  },
  "language_info": {
   "codemirror_mode": {
    "name": "ipython",
    "version": 3
   },
   "file_extension": ".py",
   "mimetype": "text/x-python",
   "name": "python",
   "nbconvert_exporter": "python",
   "pygments_lexer": "ipython3",
   "version": "3.8.12"
  },
  "vscode": {
   "interpreter": {
    "hash": "4f32e5c370c606f0f46152abb6e37dab14f41f338aa6bf5a663565349fcdc4cc"
   }
  }
 },
 "nbformat": 4,
 "nbformat_minor": 1
}
